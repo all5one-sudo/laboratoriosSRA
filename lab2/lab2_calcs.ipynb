{
 "cells": [
  {
   "cell_type": "markdown",
   "metadata": {},
   "source": [
    "# Cálculos auxiliares"
   ]
  },
  {
   "cell_type": "markdown",
   "metadata": {},
   "source": [
    "En este notebook se realizarán los cálculos auxiliares necesarios para el trabajo práctico."
   ]
  },
  {
   "cell_type": "code",
   "execution_count": 5,
   "metadata": {},
   "outputs": [],
   "source": [
    "import numpy as np\n",
    "import matplotlib.pyplot as plt\n",
    "import sympy as sp"
   ]
  },
  {
   "cell_type": "markdown",
   "metadata": {},
   "source": [
    "## Cálculo de la impedancia para la red T"
   ]
  },
  {
   "cell_type": "markdown",
   "metadata": {},
   "source": [
    "Se tiene la siguiente expresión:\n",
    "\n",
    "$$\n",
    "R_T = \\frac{R_1R_3+R_2R_3+R_2R_1}{R_2}\n",
    "$$\n",
    "\n",
    "Es necesario obtener la expresión de $R_2$."
   ]
  },
  {
   "cell_type": "code",
   "execution_count": 8,
   "metadata": {},
   "outputs": [
    {
     "data": {
      "text/plain": [
       "[-R1*R3/(R1 + R3 - RT)]"
      ]
     },
     "execution_count": 8,
     "metadata": {},
     "output_type": "execute_result"
    }
   ],
   "source": [
    "RT, R1, R2, R3 = sp.symbols('RT R1 R2 R3')\n",
    "eq = sp.Eq(RT, (R1*R3 + R2*R3 + R2*R1) / R2)\n",
    "sol = sp.solve(eq, R2)\n",
    "\n",
    "sol"
   ]
  },
  {
   "cell_type": "code",
   "execution_count": 9,
   "metadata": {},
   "outputs": [
    {
     "name": "stdout",
     "output_type": "stream",
     "text": [
      "\\left[ - \\frac{R_{1} R_{3}}{R_{1} + R_{3} - RT}\\right]\n"
     ]
    }
   ],
   "source": [
    "latex_sol = sp.latex(sol)\n",
    "print(latex_sol)"
   ]
  },
  {
   "cell_type": "code",
   "execution_count": 14,
   "metadata": {},
   "outputs": [
    {
     "name": "stdout",
     "output_type": "stream",
     "text": [
      "Valor R2:  [8620.68965517241]\n"
     ]
    }
   ],
   "source": [
    "values = {RT: 30e6, R1: 500e3, R3: 500e3}\n",
    "numeric_sol = [sol_i.subs(values) for sol_i in sol]\n",
    "print('Valor R2: ',numeric_sol)"
   ]
  },
  {
   "cell_type": "markdown",
   "metadata": {},
   "source": [
    "# Cálculo del error por tensión de Offset"
   ]
  },
  {
   "cell_type": "markdown",
   "metadata": {},
   "source": [
    "Para $R_{in} = 50 \\Omega$"
   ]
  },
  {
   "cell_type": "code",
   "execution_count": 16,
   "metadata": {},
   "outputs": [
    {
     "data": {
      "text/plain": [
       "0.122"
      ]
     },
     "execution_count": 16,
     "metadata": {},
     "output_type": "execute_result"
    }
   ],
   "source": [
    "R = 1000\n",
    "Rf = 30000\n",
    "V_OS = 2e-3\n",
    "delta_V_OS = V_OS / ((R/2) / ((R/2) + Rf))\n",
    "delta_V_OS"
   ]
  },
  {
   "cell_type": "code",
   "execution_count": 18,
   "metadata": {},
   "outputs": [
    {
     "data": {
      "text/plain": [
       "0.122"
      ]
     },
     "execution_count": 18,
     "metadata": {},
     "output_type": "execute_result"
    }
   ],
   "source": [
    "R = 1000000\n",
    "Rf = 30000000\n",
    "V_OS = 2e-3\n",
    "delta_V_OS = V_OS / ((R/2) / ((R/2) + Rf))\n",
    "delta_V_OS"
   ]
  }
 ],
 "metadata": {
  "kernelspec": {
   "display_name": "Python 3",
   "language": "python",
   "name": "python3"
  },
  "language_info": {
   "codemirror_mode": {
    "name": "ipython",
    "version": 3
   },
   "file_extension": ".py",
   "mimetype": "text/x-python",
   "name": "python",
   "nbconvert_exporter": "python",
   "pygments_lexer": "ipython3",
   "version": "3.9.4"
  }
 },
 "nbformat": 4,
 "nbformat_minor": 2
}
